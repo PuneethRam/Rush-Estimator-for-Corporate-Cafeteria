{
  "nbformat": 4,
  "nbformat_minor": 0,
  "metadata": {
    "colab": {
      "provenance": [],
      "collapsed_sections": []
    },
    "kernelspec": {
      "name": "python3",
      "display_name": "Python 3"
    },
    "language_info": {
      "name": "python"
    }
  },
  "cells": [
    {
      "cell_type": "code",
      "execution_count": 120,
      "metadata": {
        "id": "hhC60zHEsbs4"
      },
      "outputs": [],
      "source": [
        "import pandas as pd\n",
        "data=pd.read_csv(\"ibm.csv\")"
      ]
    },
    {
      "cell_type": "code",
      "source": [
        "data.head()"
      ],
      "metadata": {
        "colab": {
          "base_uri": "https://localhost:8080/",
          "height": 206
        },
        "id": "ZHKA8MRatA5N",
        "outputId": "e339f742-96b5-4857-a22b-8f3ce61da3e8"
      },
      "execution_count": 121,
      "outputs": [
        {
          "output_type": "execute_result",
          "data": {
            "text/plain": [
              "   Unnamed: 0       Dates      Time  Week  Count\n",
              "0          27  2022-02-02  09:00:00     3     69\n",
              "1          28  2022-02-02  09:20:00     3    188\n",
              "2          29  2022-02-02  09:40:00     3    177\n",
              "3          30  2022-02-02  10:00:00     3     67\n",
              "4          31  2022-02-02  10:20:00     3     62"
            ],
            "text/html": [
              "\n",
              "  <div id=\"df-dccf6e25-af55-498c-8909-6e590a2fcde1\">\n",
              "    <div class=\"colab-df-container\">\n",
              "      <div>\n",
              "<style scoped>\n",
              "    .dataframe tbody tr th:only-of-type {\n",
              "        vertical-align: middle;\n",
              "    }\n",
              "\n",
              "    .dataframe tbody tr th {\n",
              "        vertical-align: top;\n",
              "    }\n",
              "\n",
              "    .dataframe thead th {\n",
              "        text-align: right;\n",
              "    }\n",
              "</style>\n",
              "<table border=\"1\" class=\"dataframe\">\n",
              "  <thead>\n",
              "    <tr style=\"text-align: right;\">\n",
              "      <th></th>\n",
              "      <th>Unnamed: 0</th>\n",
              "      <th>Dates</th>\n",
              "      <th>Time</th>\n",
              "      <th>Week</th>\n",
              "      <th>Count</th>\n",
              "    </tr>\n",
              "  </thead>\n",
              "  <tbody>\n",
              "    <tr>\n",
              "      <th>0</th>\n",
              "      <td>27</td>\n",
              "      <td>2022-02-02</td>\n",
              "      <td>09:00:00</td>\n",
              "      <td>3</td>\n",
              "      <td>69</td>\n",
              "    </tr>\n",
              "    <tr>\n",
              "      <th>1</th>\n",
              "      <td>28</td>\n",
              "      <td>2022-02-02</td>\n",
              "      <td>09:20:00</td>\n",
              "      <td>3</td>\n",
              "      <td>188</td>\n",
              "    </tr>\n",
              "    <tr>\n",
              "      <th>2</th>\n",
              "      <td>29</td>\n",
              "      <td>2022-02-02</td>\n",
              "      <td>09:40:00</td>\n",
              "      <td>3</td>\n",
              "      <td>177</td>\n",
              "    </tr>\n",
              "    <tr>\n",
              "      <th>3</th>\n",
              "      <td>30</td>\n",
              "      <td>2022-02-02</td>\n",
              "      <td>10:00:00</td>\n",
              "      <td>3</td>\n",
              "      <td>67</td>\n",
              "    </tr>\n",
              "    <tr>\n",
              "      <th>4</th>\n",
              "      <td>31</td>\n",
              "      <td>2022-02-02</td>\n",
              "      <td>10:20:00</td>\n",
              "      <td>3</td>\n",
              "      <td>62</td>\n",
              "    </tr>\n",
              "  </tbody>\n",
              "</table>\n",
              "</div>\n",
              "      <button class=\"colab-df-convert\" onclick=\"convertToInteractive('df-dccf6e25-af55-498c-8909-6e590a2fcde1')\"\n",
              "              title=\"Convert this dataframe to an interactive table.\"\n",
              "              style=\"display:none;\">\n",
              "        \n",
              "  <svg xmlns=\"http://www.w3.org/2000/svg\" height=\"24px\"viewBox=\"0 0 24 24\"\n",
              "       width=\"24px\">\n",
              "    <path d=\"M0 0h24v24H0V0z\" fill=\"none\"/>\n",
              "    <path d=\"M18.56 5.44l.94 2.06.94-2.06 2.06-.94-2.06-.94-.94-2.06-.94 2.06-2.06.94zm-11 1L8.5 8.5l.94-2.06 2.06-.94-2.06-.94L8.5 2.5l-.94 2.06-2.06.94zm10 10l.94 2.06.94-2.06 2.06-.94-2.06-.94-.94-2.06-.94 2.06-2.06.94z\"/><path d=\"M17.41 7.96l-1.37-1.37c-.4-.4-.92-.59-1.43-.59-.52 0-1.04.2-1.43.59L10.3 9.45l-7.72 7.72c-.78.78-.78 2.05 0 2.83L4 21.41c.39.39.9.59 1.41.59.51 0 1.02-.2 1.41-.59l7.78-7.78 2.81-2.81c.8-.78.8-2.07 0-2.86zM5.41 20L4 18.59l7.72-7.72 1.47 1.35L5.41 20z\"/>\n",
              "  </svg>\n",
              "      </button>\n",
              "      \n",
              "  <style>\n",
              "    .colab-df-container {\n",
              "      display:flex;\n",
              "      flex-wrap:wrap;\n",
              "      gap: 12px;\n",
              "    }\n",
              "\n",
              "    .colab-df-convert {\n",
              "      background-color: #E8F0FE;\n",
              "      border: none;\n",
              "      border-radius: 50%;\n",
              "      cursor: pointer;\n",
              "      display: none;\n",
              "      fill: #1967D2;\n",
              "      height: 32px;\n",
              "      padding: 0 0 0 0;\n",
              "      width: 32px;\n",
              "    }\n",
              "\n",
              "    .colab-df-convert:hover {\n",
              "      background-color: #E2EBFA;\n",
              "      box-shadow: 0px 1px 2px rgba(60, 64, 67, 0.3), 0px 1px 3px 1px rgba(60, 64, 67, 0.15);\n",
              "      fill: #174EA6;\n",
              "    }\n",
              "\n",
              "    [theme=dark] .colab-df-convert {\n",
              "      background-color: #3B4455;\n",
              "      fill: #D2E3FC;\n",
              "    }\n",
              "\n",
              "    [theme=dark] .colab-df-convert:hover {\n",
              "      background-color: #434B5C;\n",
              "      box-shadow: 0px 1px 3px 1px rgba(0, 0, 0, 0.15);\n",
              "      filter: drop-shadow(0px 1px 2px rgba(0, 0, 0, 0.3));\n",
              "      fill: #FFFFFF;\n",
              "    }\n",
              "  </style>\n",
              "\n",
              "      <script>\n",
              "        const buttonEl =\n",
              "          document.querySelector('#df-dccf6e25-af55-498c-8909-6e590a2fcde1 button.colab-df-convert');\n",
              "        buttonEl.style.display =\n",
              "          google.colab.kernel.accessAllowed ? 'block' : 'none';\n",
              "\n",
              "        async function convertToInteractive(key) {\n",
              "          const element = document.querySelector('#df-dccf6e25-af55-498c-8909-6e590a2fcde1');\n",
              "          const dataTable =\n",
              "            await google.colab.kernel.invokeFunction('convertToInteractive',\n",
              "                                                     [key], {});\n",
              "          if (!dataTable) return;\n",
              "\n",
              "          const docLinkHtml = 'Like what you see? Visit the ' +\n",
              "            '<a target=\"_blank\" href=https://colab.research.google.com/notebooks/data_table.ipynb>data table notebook</a>'\n",
              "            + ' to learn more about interactive tables.';\n",
              "          element.innerHTML = '';\n",
              "          dataTable['output_type'] = 'display_data';\n",
              "          await google.colab.output.renderOutput(dataTable, element);\n",
              "          const docLink = document.createElement('div');\n",
              "          docLink.innerHTML = docLinkHtml;\n",
              "          element.appendChild(docLink);\n",
              "        }\n",
              "      </script>\n",
              "    </div>\n",
              "  </div>\n",
              "  "
            ]
          },
          "metadata": {},
          "execution_count": 121
        }
      ]
    },
    {
      "cell_type": "code",
      "source": [
        "data.drop(['Unnamed: 0'],axis=1,inplace=True)"
      ],
      "metadata": {
        "id": "pppVG3olED3x"
      },
      "execution_count": 122,
      "outputs": []
    },
    {
      "cell_type": "code",
      "source": [
        "data.head()"
      ],
      "metadata": {
        "colab": {
          "base_uri": "https://localhost:8080/",
          "height": 206
        },
        "id": "H9DmbK6qEM8A",
        "outputId": "4af5e4a4-46e5-4667-d75f-87668245808f"
      },
      "execution_count": 123,
      "outputs": [
        {
          "output_type": "execute_result",
          "data": {
            "text/plain": [
              "        Dates      Time  Week  Count\n",
              "0  2022-02-02  09:00:00     3     69\n",
              "1  2022-02-02  09:20:00     3    188\n",
              "2  2022-02-02  09:40:00     3    177\n",
              "3  2022-02-02  10:00:00     3     67\n",
              "4  2022-02-02  10:20:00     3     62"
            ],
            "text/html": [
              "\n",
              "  <div id=\"df-e4174e76-cc51-483c-8e9a-fa15491ab865\">\n",
              "    <div class=\"colab-df-container\">\n",
              "      <div>\n",
              "<style scoped>\n",
              "    .dataframe tbody tr th:only-of-type {\n",
              "        vertical-align: middle;\n",
              "    }\n",
              "\n",
              "    .dataframe tbody tr th {\n",
              "        vertical-align: top;\n",
              "    }\n",
              "\n",
              "    .dataframe thead th {\n",
              "        text-align: right;\n",
              "    }\n",
              "</style>\n",
              "<table border=\"1\" class=\"dataframe\">\n",
              "  <thead>\n",
              "    <tr style=\"text-align: right;\">\n",
              "      <th></th>\n",
              "      <th>Dates</th>\n",
              "      <th>Time</th>\n",
              "      <th>Week</th>\n",
              "      <th>Count</th>\n",
              "    </tr>\n",
              "  </thead>\n",
              "  <tbody>\n",
              "    <tr>\n",
              "      <th>0</th>\n",
              "      <td>2022-02-02</td>\n",
              "      <td>09:00:00</td>\n",
              "      <td>3</td>\n",
              "      <td>69</td>\n",
              "    </tr>\n",
              "    <tr>\n",
              "      <th>1</th>\n",
              "      <td>2022-02-02</td>\n",
              "      <td>09:20:00</td>\n",
              "      <td>3</td>\n",
              "      <td>188</td>\n",
              "    </tr>\n",
              "    <tr>\n",
              "      <th>2</th>\n",
              "      <td>2022-02-02</td>\n",
              "      <td>09:40:00</td>\n",
              "      <td>3</td>\n",
              "      <td>177</td>\n",
              "    </tr>\n",
              "    <tr>\n",
              "      <th>3</th>\n",
              "      <td>2022-02-02</td>\n",
              "      <td>10:00:00</td>\n",
              "      <td>3</td>\n",
              "      <td>67</td>\n",
              "    </tr>\n",
              "    <tr>\n",
              "      <th>4</th>\n",
              "      <td>2022-02-02</td>\n",
              "      <td>10:20:00</td>\n",
              "      <td>3</td>\n",
              "      <td>62</td>\n",
              "    </tr>\n",
              "  </tbody>\n",
              "</table>\n",
              "</div>\n",
              "      <button class=\"colab-df-convert\" onclick=\"convertToInteractive('df-e4174e76-cc51-483c-8e9a-fa15491ab865')\"\n",
              "              title=\"Convert this dataframe to an interactive table.\"\n",
              "              style=\"display:none;\">\n",
              "        \n",
              "  <svg xmlns=\"http://www.w3.org/2000/svg\" height=\"24px\"viewBox=\"0 0 24 24\"\n",
              "       width=\"24px\">\n",
              "    <path d=\"M0 0h24v24H0V0z\" fill=\"none\"/>\n",
              "    <path d=\"M18.56 5.44l.94 2.06.94-2.06 2.06-.94-2.06-.94-.94-2.06-.94 2.06-2.06.94zm-11 1L8.5 8.5l.94-2.06 2.06-.94-2.06-.94L8.5 2.5l-.94 2.06-2.06.94zm10 10l.94 2.06.94-2.06 2.06-.94-2.06-.94-.94-2.06-.94 2.06-2.06.94z\"/><path d=\"M17.41 7.96l-1.37-1.37c-.4-.4-.92-.59-1.43-.59-.52 0-1.04.2-1.43.59L10.3 9.45l-7.72 7.72c-.78.78-.78 2.05 0 2.83L4 21.41c.39.39.9.59 1.41.59.51 0 1.02-.2 1.41-.59l7.78-7.78 2.81-2.81c.8-.78.8-2.07 0-2.86zM5.41 20L4 18.59l7.72-7.72 1.47 1.35L5.41 20z\"/>\n",
              "  </svg>\n",
              "      </button>\n",
              "      \n",
              "  <style>\n",
              "    .colab-df-container {\n",
              "      display:flex;\n",
              "      flex-wrap:wrap;\n",
              "      gap: 12px;\n",
              "    }\n",
              "\n",
              "    .colab-df-convert {\n",
              "      background-color: #E8F0FE;\n",
              "      border: none;\n",
              "      border-radius: 50%;\n",
              "      cursor: pointer;\n",
              "      display: none;\n",
              "      fill: #1967D2;\n",
              "      height: 32px;\n",
              "      padding: 0 0 0 0;\n",
              "      width: 32px;\n",
              "    }\n",
              "\n",
              "    .colab-df-convert:hover {\n",
              "      background-color: #E2EBFA;\n",
              "      box-shadow: 0px 1px 2px rgba(60, 64, 67, 0.3), 0px 1px 3px 1px rgba(60, 64, 67, 0.15);\n",
              "      fill: #174EA6;\n",
              "    }\n",
              "\n",
              "    [theme=dark] .colab-df-convert {\n",
              "      background-color: #3B4455;\n",
              "      fill: #D2E3FC;\n",
              "    }\n",
              "\n",
              "    [theme=dark] .colab-df-convert:hover {\n",
              "      background-color: #434B5C;\n",
              "      box-shadow: 0px 1px 3px 1px rgba(0, 0, 0, 0.15);\n",
              "      filter: drop-shadow(0px 1px 2px rgba(0, 0, 0, 0.3));\n",
              "      fill: #FFFFFF;\n",
              "    }\n",
              "  </style>\n",
              "\n",
              "      <script>\n",
              "        const buttonEl =\n",
              "          document.querySelector('#df-e4174e76-cc51-483c-8e9a-fa15491ab865 button.colab-df-convert');\n",
              "        buttonEl.style.display =\n",
              "          google.colab.kernel.accessAllowed ? 'block' : 'none';\n",
              "\n",
              "        async function convertToInteractive(key) {\n",
              "          const element = document.querySelector('#df-e4174e76-cc51-483c-8e9a-fa15491ab865');\n",
              "          const dataTable =\n",
              "            await google.colab.kernel.invokeFunction('convertToInteractive',\n",
              "                                                     [key], {});\n",
              "          if (!dataTable) return;\n",
              "\n",
              "          const docLinkHtml = 'Like what you see? Visit the ' +\n",
              "            '<a target=\"_blank\" href=https://colab.research.google.com/notebooks/data_table.ipynb>data table notebook</a>'\n",
              "            + ' to learn more about interactive tables.';\n",
              "          element.innerHTML = '';\n",
              "          dataTable['output_type'] = 'display_data';\n",
              "          await google.colab.output.renderOutput(dataTable, element);\n",
              "          const docLink = document.createElement('div');\n",
              "          docLink.innerHTML = docLinkHtml;\n",
              "          element.appendChild(docLink);\n",
              "        }\n",
              "      </script>\n",
              "    </div>\n",
              "  </div>\n",
              "  "
            ]
          },
          "metadata": {},
          "execution_count": 123
        }
      ]
    },
    {
      "cell_type": "code",
      "source": [
        "data['Count'] = data['Count'].fillna(0).astype(int)"
      ],
      "metadata": {
        "id": "apf-zbm30Kpl"
      },
      "execution_count": 124,
      "outputs": []
    },
    {
      "cell_type": "code",
      "source": [
        "def convert(a):\n",
        "    a = str(a)  # cast to string\n",
        "    b = a[0:2]+\".\"+a[3:5] # last four characters\n",
        "    return float(b)\n",
        "\n",
        "data['Time'] = data['Time'].apply(convert)"
      ],
      "metadata": {
        "id": "0zG2U9RC0VcQ"
      },
      "execution_count": 125,
      "outputs": []
    },
    {
      "cell_type": "code",
      "source": [
        "def convert(a):\n",
        "    a = str(a)  # cast to string\n",
        "    b = a[5:7]+\".\"+a[8:10] # last four characters\n",
        "    return float(b)\n",
        "\n",
        "data['Dates'] = data['Dates'].apply(convert)"
      ],
      "metadata": {
        "id": "s2AaIquTFCOP"
      },
      "execution_count": 126,
      "outputs": []
    },
    {
      "cell_type": "code",
      "source": [
        "data.head()"
      ],
      "metadata": {
        "colab": {
          "base_uri": "https://localhost:8080/",
          "height": 206
        },
        "id": "gKr6dbHI0Kse",
        "outputId": "9e5d8574-656f-4a65-e2af-fa985a66a110"
      },
      "execution_count": 127,
      "outputs": [
        {
          "output_type": "execute_result",
          "data": {
            "text/plain": [
              "   Dates  Time  Week  Count\n",
              "0   2.02   9.0     3     69\n",
              "1   2.02   9.2     3    188\n",
              "2   2.02   9.4     3    177\n",
              "3   2.02  10.0     3     67\n",
              "4   2.02  10.2     3     62"
            ],
            "text/html": [
              "\n",
              "  <div id=\"df-4b8fe7f0-483c-4b6c-bbc2-1c0bb6363362\">\n",
              "    <div class=\"colab-df-container\">\n",
              "      <div>\n",
              "<style scoped>\n",
              "    .dataframe tbody tr th:only-of-type {\n",
              "        vertical-align: middle;\n",
              "    }\n",
              "\n",
              "    .dataframe tbody tr th {\n",
              "        vertical-align: top;\n",
              "    }\n",
              "\n",
              "    .dataframe thead th {\n",
              "        text-align: right;\n",
              "    }\n",
              "</style>\n",
              "<table border=\"1\" class=\"dataframe\">\n",
              "  <thead>\n",
              "    <tr style=\"text-align: right;\">\n",
              "      <th></th>\n",
              "      <th>Dates</th>\n",
              "      <th>Time</th>\n",
              "      <th>Week</th>\n",
              "      <th>Count</th>\n",
              "    </tr>\n",
              "  </thead>\n",
              "  <tbody>\n",
              "    <tr>\n",
              "      <th>0</th>\n",
              "      <td>2.02</td>\n",
              "      <td>9.0</td>\n",
              "      <td>3</td>\n",
              "      <td>69</td>\n",
              "    </tr>\n",
              "    <tr>\n",
              "      <th>1</th>\n",
              "      <td>2.02</td>\n",
              "      <td>9.2</td>\n",
              "      <td>3</td>\n",
              "      <td>188</td>\n",
              "    </tr>\n",
              "    <tr>\n",
              "      <th>2</th>\n",
              "      <td>2.02</td>\n",
              "      <td>9.4</td>\n",
              "      <td>3</td>\n",
              "      <td>177</td>\n",
              "    </tr>\n",
              "    <tr>\n",
              "      <th>3</th>\n",
              "      <td>2.02</td>\n",
              "      <td>10.0</td>\n",
              "      <td>3</td>\n",
              "      <td>67</td>\n",
              "    </tr>\n",
              "    <tr>\n",
              "      <th>4</th>\n",
              "      <td>2.02</td>\n",
              "      <td>10.2</td>\n",
              "      <td>3</td>\n",
              "      <td>62</td>\n",
              "    </tr>\n",
              "  </tbody>\n",
              "</table>\n",
              "</div>\n",
              "      <button class=\"colab-df-convert\" onclick=\"convertToInteractive('df-4b8fe7f0-483c-4b6c-bbc2-1c0bb6363362')\"\n",
              "              title=\"Convert this dataframe to an interactive table.\"\n",
              "              style=\"display:none;\">\n",
              "        \n",
              "  <svg xmlns=\"http://www.w3.org/2000/svg\" height=\"24px\"viewBox=\"0 0 24 24\"\n",
              "       width=\"24px\">\n",
              "    <path d=\"M0 0h24v24H0V0z\" fill=\"none\"/>\n",
              "    <path d=\"M18.56 5.44l.94 2.06.94-2.06 2.06-.94-2.06-.94-.94-2.06-.94 2.06-2.06.94zm-11 1L8.5 8.5l.94-2.06 2.06-.94-2.06-.94L8.5 2.5l-.94 2.06-2.06.94zm10 10l.94 2.06.94-2.06 2.06-.94-2.06-.94-.94-2.06-.94 2.06-2.06.94z\"/><path d=\"M17.41 7.96l-1.37-1.37c-.4-.4-.92-.59-1.43-.59-.52 0-1.04.2-1.43.59L10.3 9.45l-7.72 7.72c-.78.78-.78 2.05 0 2.83L4 21.41c.39.39.9.59 1.41.59.51 0 1.02-.2 1.41-.59l7.78-7.78 2.81-2.81c.8-.78.8-2.07 0-2.86zM5.41 20L4 18.59l7.72-7.72 1.47 1.35L5.41 20z\"/>\n",
              "  </svg>\n",
              "      </button>\n",
              "      \n",
              "  <style>\n",
              "    .colab-df-container {\n",
              "      display:flex;\n",
              "      flex-wrap:wrap;\n",
              "      gap: 12px;\n",
              "    }\n",
              "\n",
              "    .colab-df-convert {\n",
              "      background-color: #E8F0FE;\n",
              "      border: none;\n",
              "      border-radius: 50%;\n",
              "      cursor: pointer;\n",
              "      display: none;\n",
              "      fill: #1967D2;\n",
              "      height: 32px;\n",
              "      padding: 0 0 0 0;\n",
              "      width: 32px;\n",
              "    }\n",
              "\n",
              "    .colab-df-convert:hover {\n",
              "      background-color: #E2EBFA;\n",
              "      box-shadow: 0px 1px 2px rgba(60, 64, 67, 0.3), 0px 1px 3px 1px rgba(60, 64, 67, 0.15);\n",
              "      fill: #174EA6;\n",
              "    }\n",
              "\n",
              "    [theme=dark] .colab-df-convert {\n",
              "      background-color: #3B4455;\n",
              "      fill: #D2E3FC;\n",
              "    }\n",
              "\n",
              "    [theme=dark] .colab-df-convert:hover {\n",
              "      background-color: #434B5C;\n",
              "      box-shadow: 0px 1px 3px 1px rgba(0, 0, 0, 0.15);\n",
              "      filter: drop-shadow(0px 1px 2px rgba(0, 0, 0, 0.3));\n",
              "      fill: #FFFFFF;\n",
              "    }\n",
              "  </style>\n",
              "\n",
              "      <script>\n",
              "        const buttonEl =\n",
              "          document.querySelector('#df-4b8fe7f0-483c-4b6c-bbc2-1c0bb6363362 button.colab-df-convert');\n",
              "        buttonEl.style.display =\n",
              "          google.colab.kernel.accessAllowed ? 'block' : 'none';\n",
              "\n",
              "        async function convertToInteractive(key) {\n",
              "          const element = document.querySelector('#df-4b8fe7f0-483c-4b6c-bbc2-1c0bb6363362');\n",
              "          const dataTable =\n",
              "            await google.colab.kernel.invokeFunction('convertToInteractive',\n",
              "                                                     [key], {});\n",
              "          if (!dataTable) return;\n",
              "\n",
              "          const docLinkHtml = 'Like what you see? Visit the ' +\n",
              "            '<a target=\"_blank\" href=https://colab.research.google.com/notebooks/data_table.ipynb>data table notebook</a>'\n",
              "            + ' to learn more about interactive tables.';\n",
              "          element.innerHTML = '';\n",
              "          dataTable['output_type'] = 'display_data';\n",
              "          await google.colab.output.renderOutput(dataTable, element);\n",
              "          const docLink = document.createElement('div');\n",
              "          docLink.innerHTML = docLinkHtml;\n",
              "          element.appendChild(docLink);\n",
              "        }\n",
              "      </script>\n",
              "    </div>\n",
              "  </div>\n",
              "  "
            ]
          },
          "metadata": {},
          "execution_count": 127
        }
      ]
    },
    {
      "cell_type": "code",
      "source": [
        "import matplotlib.pyplot as plt \n",
        "plt.figure(figsize=(16,8))\n",
        "plt.title('Crowd Count')\n",
        "plt.plot(data['Count'])\n",
        "plt.xlabel('Time',fontsize=18)\n",
        "plt.ylabel('Count',fontsize=18)\n",
        "plt.show()"
      ],
      "metadata": {
        "colab": {
          "base_uri": "https://localhost:8080/",
          "height": 469
        },
        "id": "xbpgU5Doo9qU",
        "outputId": "994e985d-0006-4783-8254-6c04e95d2655"
      },
      "execution_count": 128,
      "outputs": [
        {
          "output_type": "display_data",
          "data": {
            "text/plain": [
              "<Figure size 1152x576 with 1 Axes>"
            ],
            "image/png": "[encoded data removed]"
          },
          "metadata": {
            "needs_background": "light"
          }
        }
      ]
    },
    {
      "cell_type": "code",
      "source": [
        "import seaborn as sns\n",
        "from sklearn.preprocessing import MinMaxScaler\n",
        "import pandas as pd\n",
        "\n",
        "scaler = MinMaxScaler()\n",
        "df=data.copy()\n",
        "df.drop(['Count'],axis=1,inplace=True)\n",
        "df_scaled = scaler.fit_transform(df.to_numpy())\n",
        "df_scaled = pd.DataFrame(df_scaled, columns=['Date','Time','Week'])\n",
        "\n",
        "print(\"Scaled Dataset Using MinMaxScaler\")\n",
        "df_scaled.head()\n"
      ],
      "metadata": {
        "colab": {
          "base_uri": "https://localhost:8080/",
          "height": 223
        },
        "id": "HqAZySfntlu0",
        "outputId": "316b05a1-24ed-48b0-d6ff-b888c9c4dbff"
      },
      "execution_count": 129,
      "outputs": [
        {
          "output_type": "stream",
          "name": "stdout",
          "text": [
            "Scaled Dataset Using MinMaxScaler\n"
          ]
        },
        {
          "output_type": "execute_result",
          "data": {
            "text/plain": [
              "   Date   Time      Week\n",
              "0   0.0  0.000  0.333333\n",
              "1   0.0  0.025  0.333333\n",
              "2   0.0  0.050  0.333333\n",
              "3   0.0  0.125  0.333333\n",
              "4   0.0  0.150  0.333333"
            ],
            "text/html": [
              "\n",
              "  <div id=\"df-869ba417-dde5-4c87-a46e-0db15758dd66\">\n",
              "    <div class=\"colab-df-container\">\n",
              "      <div>\n",
              "<style scoped>\n",
              "    .dataframe tbody tr th:only-of-type {\n",
              "        vertical-align: middle;\n",
              "    }\n",
              "\n",
              "    .dataframe tbody tr th {\n",
              "        vertical-align: top;\n",
              "    }\n",
              "\n",
              "    .dataframe thead th {\n",
              "        text-align: right;\n",
              "    }\n",
              "</style>\n",
              "<table border=\"1\" class=\"dataframe\">\n",
              "  <thead>\n",
              "    <tr style=\"text-align: right;\">\n",
              "      <th></th>\n",
              "      <th>Date</th>\n",
              "      <th>Time</th>\n",
              "      <th>Week</th>\n",
              "    </tr>\n",
              "  </thead>\n",
              "  <tbody>\n",
              "    <tr>\n",
              "      <th>0</th>\n",
              "      <td>0.0</td>\n",
              "      <td>0.000</td>\n",
              "      <td>0.333333</td>\n",
              "    </tr>\n",
              "    <tr>\n",
              "      <th>1</th>\n",
              "      <td>0.0</td>\n",
              "      <td>0.025</td>\n",
              "      <td>0.333333</td>\n",
              "    </tr>\n",
              "    <tr>\n",
              "      <th>2</th>\n",
              "      <td>0.0</td>\n",
              "      <td>0.050</td>\n",
              "      <td>0.333333</td>\n",
              "    </tr>\n",
              "    <tr>\n",
              "      <th>3</th>\n",
              "      <td>0.0</td>\n",
              "      <td>0.125</td>\n",
              "      <td>0.333333</td>\n",
              "    </tr>\n",
              "    <tr>\n",
              "      <th>4</th>\n",
              "      <td>0.0</td>\n",
              "      <td>0.150</td>\n",
              "      <td>0.333333</td>\n",
              "    </tr>\n",
              "  </tbody>\n",
              "</table>\n",
              "</div>\n",
              "      <button class=\"colab-df-convert\" onclick=\"convertToInteractive('df-869ba417-dde5-4c87-a46e-0db15758dd66')\"\n",
              "              title=\"Convert this dataframe to an interactive table.\"\n",
              "              style=\"display:none;\">\n",
              "        \n",
              "  <svg xmlns=\"http://www.w3.org/2000/svg\" height=\"24px\"viewBox=\"0 0 24 24\"\n",
              "       width=\"24px\">\n",
              "    <path d=\"M0 0h24v24H0V0z\" fill=\"none\"/>\n",
              "    <path d=\"M18.56 5.44l.94 2.06.94-2.06 2.06-.94-2.06-.94-.94-2.06-.94 2.06-2.06.94zm-11 1L8.5 8.5l.94-2.06 2.06-.94-2.06-.94L8.5 2.5l-.94 2.06-2.06.94zm10 10l.94 2.06.94-2.06 2.06-.94-2.06-.94-.94-2.06-.94 2.06-2.06.94z\"/><path d=\"M17.41 7.96l-1.37-1.37c-.4-.4-.92-.59-1.43-.59-.52 0-1.04.2-1.43.59L10.3 9.45l-7.72 7.72c-.78.78-.78 2.05 0 2.83L4 21.41c.39.39.9.59 1.41.59.51 0 1.02-.2 1.41-.59l7.78-7.78 2.81-2.81c.8-.78.8-2.07 0-2.86zM5.41 20L4 18.59l7.72-7.72 1.47 1.35L5.41 20z\"/>\n",
              "  </svg>\n",
              "      </button>\n",
              "      \n",
              "  <style>\n",
              "    .colab-df-container {\n",
              "      display:flex;\n",
              "      flex-wrap:wrap;\n",
              "      gap: 12px;\n",
              "    }\n",
              "\n",
              "    .colab-df-convert {\n",
              "      background-color: #E8F0FE;\n",
              "      border: none;\n",
              "      border-radius: 50%;\n",
              "      cursor: pointer;\n",
              "      display: none;\n",
              "      fill: #1967D2;\n",
              "      height: 32px;\n",
              "      padding: 0 0 0 0;\n",
              "      width: 32px;\n",
              "    }\n",
              "\n",
              "    .colab-df-convert:hover {\n",
              "      background-color: #E2EBFA;\n",
              "      box-shadow: 0px 1px 2px rgba(60, 64, 67, 0.3), 0px 1px 3px 1px rgba(60, 64, 67, 0.15);\n",
              "      fill: #174EA6;\n",
              "    }\n",
              "\n",
              "    [theme=dark] .colab-df-convert {\n",
              "      background-color: #3B4455;\n",
              "      fill: #D2E3FC;\n",
              "    }\n",
              "\n",
              "    [theme=dark] .colab-df-convert:hover {\n",
              "      background-color: #434B5C;\n",
              "      box-shadow: 0px 1px 3px 1px rgba(0, 0, 0, 0.15);\n",
              "      filter: drop-shadow(0px 1px 2px rgba(0, 0, 0, 0.3));\n",
              "      fill: #FFFFFF;\n",
              "    }\n",
              "  </style>\n",
              "\n",
              "      <script>\n",
              "        const buttonEl =\n",
              "          document.querySelector('#df-869ba417-dde5-4c87-a46e-0db15758dd66 button.colab-df-convert');\n",
              "        buttonEl.style.display =\n",
              "          google.colab.kernel.accessAllowed ? 'block' : 'none';\n",
              "\n",
              "        async function convertToInteractive(key) {\n",
              "          const element = document.querySelector('#df-869ba417-dde5-4c87-a46e-0db15758dd66');\n",
              "          const dataTable =\n",
              "            await google.colab.kernel.invokeFunction('convertToInteractive',\n",
              "                                                     [key], {});\n",
              "          if (!dataTable) return;\n",
              "\n",
              "          const docLinkHtml = 'Like what you see? Visit the ' +\n",
              "            '<a target=\"_blank\" href=https://colab.research.google.com/notebooks/data_table.ipynb>data table notebook</a>'\n",
              "            + ' to learn more about interactive tables.';\n",
              "          element.innerHTML = '';\n",
              "          dataTable['output_type'] = 'display_data';\n",
              "          await google.colab.output.renderOutput(dataTable, element);\n",
              "          const docLink = document.createElement('div');\n",
              "          docLink.innerHTML = docLinkHtml;\n",
              "          element.appendChild(docLink);\n",
              "        }\n",
              "      </script>\n",
              "    </div>\n",
              "  </div>\n",
              "  "
            ]
          },
          "metadata": {},
          "execution_count": 129
        }
      ]
    },
    {
      "cell_type": "code",
      "source": [
        "import numpy as np"
      ],
      "metadata": {
        "id": "rbKE9t-_yW4c"
      },
      "execution_count": 130,
      "outputs": []
    },
    {
      "cell_type": "code",
      "source": [
        "len(data)"
      ],
      "metadata": {
        "colab": {
          "base_uri": "https://localhost:8080/"
        },
        "id": "XfVP1dhGykoP",
        "outputId": "3a8d7248-c47e-46ae-89f4-3ac91df5ce95"
      },
      "execution_count": 131,
      "outputs": [
        {
          "output_type": "execute_result",
          "data": {
            "text/plain": [
              "2250"
            ]
          },
          "metadata": {},
          "execution_count": 131
        }
      ]
    },
    {
      "cell_type": "code",
      "source": [
        "X = data[['Dates','Time','Week']].values\n",
        "y = data['Count'].values\n",
        "  \n",
        "from sklearn.model_selection import train_test_split\n",
        "  \n",
        "X_train, X_test, y_train, y_test = train_test_split(X, y, test_size=0.33,shuffle=False,random_state=None)\n",
        "pq=y_test\n",
        "qp=X_test"
      ],
      "metadata": {
        "id": "2IVvoJIYyOfB"
      },
      "execution_count": 132,
      "outputs": []
    },
    {
      "cell_type": "code",
      "source": [
        "print(len(X))\n",
        "print(len(y))"
      ],
      "metadata": {
        "id": "hcwFobAgI8Zr",
        "colab": {
          "base_uri": "https://localhost:8080/"
        },
        "outputId": "4801e54a-724b-4b37-bb22-32d85ec7c59d"
      },
      "execution_count": 133,
      "outputs": [
        {
          "output_type": "stream",
          "name": "stdout",
          "text": [
            "2250\n",
            "2250\n"
          ]
        }
      ]
    },
    {
      "cell_type": "code",
      "source": [
        "X_train"
      ],
      "metadata": {
        "colab": {
          "base_uri": "https://localhost:8080/"
        },
        "id": "c0D6RsosI-i2",
        "outputId": "897b8d12-8a55-43da-9ad7-e7e916c390cd"
      },
      "execution_count": 134,
      "outputs": [
        {
          "output_type": "execute_result",
          "data": {
            "text/plain": [
              "array([[ 2.02,  9.  ,  3.  ],\n",
              "       [ 2.02,  9.2 ,  3.  ],\n",
              "       [ 2.02,  9.4 ,  3.  ],\n",
              "       ...,\n",
              "       [ 4.03, 10.2 ,  7.  ],\n",
              "       [ 4.03, 10.4 ,  7.  ],\n",
              "       [ 4.03, 11.  ,  7.  ]])"
            ]
          },
          "metadata": {},
          "execution_count": 134
        }
      ]
    },
    {
      "cell_type": "code",
      "source": [
        "from keras.models import Sequential\n",
        "from keras.layers import Dense, SimpleRNN\n",
        "from keras.callbacks import EarlyStopping\n",
        "\n",
        "model=Sequential()\n",
        "model.add(SimpleRNN(units=32, activation=\"relu\"))\n",
        "model.add(Dense(8, activation='relu'))\n",
        "model.add(Dense(1))\n",
        "model.compile(loss='mean_squared_error',  optimizer='adam',metrics = ['mse', 'mae'])\n",
        "  "
      ],
      "metadata": {
        "id": "P4IWON10yoq-"
      },
      "execution_count": 135,
      "outputs": []
    },
    {
      "cell_type": "code",
      "source": [
        "X_train = X_train.reshape(-1, 1, 3)\n",
        "X_test  = X_test.reshape(-1, 1, 3)\n",
        "y_train = y_train.reshape(-1, 1, 1)\n",
        "y_test = y_test.reshape(-1, 1, 1)\n"
      ],
      "metadata": {
        "id": "TW_fAoO3sU-I"
      },
      "execution_count": 136,
      "outputs": []
    },
    {
      "cell_type": "code",
      "source": [
        "\n",
        "X_train\n"
      ],
      "metadata": {
        "colab": {
          "base_uri": "https://localhost:8080/"
        },
        "id": "K6cJ6K3YHjJS",
        "outputId": "735fee02-988a-4396-f5ea-110e72777c58"
      },
      "execution_count": 137,
      "outputs": [
        {
          "output_type": "execute_result",
          "data": {
            "text/plain": [
              "array([[[ 2.02,  9.  ,  3.  ]],\n",
              "\n",
              "       [[ 2.02,  9.2 ,  3.  ]],\n",
              "\n",
              "       [[ 2.02,  9.4 ,  3.  ]],\n",
              "\n",
              "       ...,\n",
              "\n",
              "       [[ 4.03, 10.2 ,  7.  ]],\n",
              "\n",
              "       [[ 4.03, 10.4 ,  7.  ]],\n",
              "\n",
              "       [[ 4.03, 11.  ,  7.  ]]])"
            ]
          },
          "metadata": {},
          "execution_count": 137
        }
      ]
    },
    {
      "cell_type": "code",
      "source": [
        "import tensorflow as tf\n",
        "tf.config.run_functions_eagerly(True)\n",
        "\n",
        "model.fit(x=X_train, y=y_train, epochs=40,validation_data=(X_test,y_test),shuffle=False)"
      ],
      "metadata": {
        "colab": {
          "base_uri": "https://localhost:8080/"
        },
        "id": "9WS5l6jGyota",
        "outputId": "82ffc7e8-9558-4d10-d4af-195183d8e197"
      },
      "execution_count": 138,
      "outputs": [
        {
          "output_type": "stream",
          "name": "stdout",
          "text": [
            "Epoch 1/40\n",
            " 4/48 [=>............................] - ETA: 0s - loss: 22807.8223 - mse: 22807.8223 - mae: 127.1921"
          ]
        },
        {
          "output_type": "stream",
          "name": "stderr",
          "text": [
            "/usr/local/lib/python3.7/dist-packages/tensorflow/python/data/ops/structured_function.py:265: UserWarning: Even though the `tf.config.experimental_run_functions_eagerly` option is set, this option does not apply to tf.data functions. To force eager execution of tf.data functions, please use `tf.data.experimental.enable_debug_mode()`.\n",
            "  \"Even though the `tf.config.experimental_run_functions_eagerly` \"\n"
          ]
        },
        {
          "output_type": "stream",
          "name": "stdout",
          "text": [
            "48/48 [==============================] - 1s 26ms/step - loss: 22020.6602 - mse: 22020.6602 - mae: 123.9850 - val_loss: 21532.6797 - val_mse: 21532.6797 - val_mae: 121.6448\n",
            "Epoch 2/40\n",
            "48/48 [==============================] - 1s 24ms/step - loss: 20861.6055 - mse: 20861.6055 - mae: 119.1884 - val_loss: 20166.7773 - val_mse: 20166.7773 - val_mae: 115.8603\n",
            "Epoch 3/40\n",
            "48/48 [==============================] - 1s 25ms/step - loss: 19279.7656 - mse: 19279.7656 - mae: 112.2790 - val_loss: 18123.9727 - val_mse: 18123.9727 - val_mae: 106.6081\n",
            "Epoch 4/40\n",
            "48/48 [==============================] - 1s 24ms/step - loss: 17025.2812 - mse: 17025.2812 - mae: 101.5787 - val_loss: 15397.3213 - val_mse: 15397.3213 - val_mae: 92.7865\n",
            "Epoch 5/40\n",
            "48/48 [==============================] - 1s 25ms/step - loss: 14236.2188 - mse: 14236.2188 - mae: 86.5591 - val_loss: 12352.1787 - val_mse: 12352.1787 - val_mae: 75.1774\n",
            "Epoch 6/40\n",
            "48/48 [==============================] - 1s 24ms/step - loss: 11391.8193 - mse: 11391.8193 - mae: 70.7666 - val_loss: 9671.5771 - val_mse: 9671.5771 - val_mae: 63.2127\n",
            "Epoch 7/40\n",
            "48/48 [==============================] - 1s 25ms/step - loss: 9132.6338 - mse: 9132.6338 - mae: 62.5223 - val_loss: 7970.0962 - val_mse: 7970.0962 - val_mae: 62.8807\n",
            "Epoch 8/40\n",
            "48/48 [==============================] - 1s 24ms/step - loss: 7831.3223 - mse: 7831.3223 - mae: 63.1622 - val_loss: 7293.3198 - val_mse: 7293.3198 - val_mae: 67.1819\n",
            "Epoch 9/40\n",
            "48/48 [==============================] - 1s 25ms/step - loss: 7319.5698 - mse: 7319.5698 - mae: 66.3576 - val_loss: 7168.2881 - val_mse: 7168.2881 - val_mae: 70.7688\n",
            "Epoch 10/40\n",
            "48/48 [==============================] - 1s 23ms/step - loss: 7180.0664 - mse: 7180.0664 - mae: 68.6874 - val_loss: 7181.6509 - val_mse: 7181.6509 - val_mae: 72.5939\n",
            "Epoch 11/40\n",
            "48/48 [==============================] - 1s 24ms/step - loss: 7148.8877 - mse: 7148.8877 - mae: 69.7386 - val_loss: 7197.6606 - val_mse: 7197.6606 - val_mae: 73.2992\n",
            "Epoch 12/40\n",
            "48/48 [==============================] - 1s 25ms/step - loss: 7141.0532 - mse: 7141.0532 - mae: 70.1189 - val_loss: 7203.4717 - val_mse: 7203.4717 - val_mae: 73.5429\n",
            "Epoch 13/40\n",
            "48/48 [==============================] - 1s 25ms/step - loss: 7138.1270 - mse: 7138.1270 - mae: 70.2379 - val_loss: 7204.5020 - val_mse: 7204.5020 - val_mae: 73.6292\n",
            "Epoch 14/40\n",
            "48/48 [==============================] - 2s 32ms/step - loss: 7136.3789 - mse: 7136.3789 - mae: 70.2724 - val_loss: 7203.9609 - val_mse: 7203.9609 - val_mae: 73.6685\n",
            "Epoch 15/40\n",
            "48/48 [==============================] - 2s 32ms/step - loss: 7134.9336 - mse: 7134.9336 - mae: 70.2824 - val_loss: 7203.0005 - val_mse: 7203.0005 - val_mae: 73.6953\n",
            "Epoch 16/40\n",
            "48/48 [==============================] - 1s 24ms/step - loss: 7133.5547 - mse: 7133.5547 - mae: 70.2860 - val_loss: 7201.9023 - val_mse: 7201.9023 - val_mae: 73.7193\n",
            "Epoch 17/40\n",
            "48/48 [==============================] - 1s 24ms/step - loss: 7132.1826 - mse: 7132.1826 - mae: 70.2880 - val_loss: 7200.7686 - val_mse: 7200.7686 - val_mae: 73.7427\n",
            "Epoch 18/40\n",
            "48/48 [==============================] - 1s 25ms/step - loss: 7130.7954 - mse: 7130.7954 - mae: 70.2895 - val_loss: 7199.6196 - val_mse: 7199.6196 - val_mae: 73.7663\n",
            "Epoch 19/40\n",
            "48/48 [==============================] - 1s 23ms/step - loss: 7129.3931 - mse: 7129.3931 - mae: 70.2908 - val_loss: 7198.4697 - val_mse: 7198.4697 - val_mae: 73.7900\n",
            "Epoch 20/40\n",
            "48/48 [==============================] - 1s 24ms/step - loss: 7127.9756 - mse: 7127.9756 - mae: 70.2920 - val_loss: 7197.3184 - val_mse: 7197.3184 - val_mae: 73.8138\n",
            "Epoch 21/40\n",
            "48/48 [==============================] - 1s 23ms/step - loss: 7126.5459 - mse: 7126.5459 - mae: 70.2931 - val_loss: 7196.1714 - val_mse: 7196.1714 - val_mae: 73.8378\n",
            "Epoch 22/40\n",
            "48/48 [==============================] - 1s 23ms/step - loss: 7125.1074 - mse: 7125.1074 - mae: 70.2941 - val_loss: 7195.0317 - val_mse: 7195.0317 - val_mae: 73.8620\n",
            "Epoch 23/40\n",
            "48/48 [==============================] - 1s 24ms/step - loss: 7123.6587 - mse: 7123.6587 - mae: 70.2950 - val_loss: 7193.8955 - val_mse: 7193.8955 - val_mae: 73.8866\n",
            "Epoch 24/40\n",
            "48/48 [==============================] - 1s 25ms/step - loss: 7122.2017 - mse: 7122.2017 - mae: 70.2958 - val_loss: 7192.7686 - val_mse: 7192.7686 - val_mae: 73.9116\n",
            "Epoch 25/40\n",
            "48/48 [==============================] - 1s 23ms/step - loss: 7120.7393 - mse: 7120.7393 - mae: 70.2966 - val_loss: 7191.6509 - val_mse: 7191.6509 - val_mae: 73.9366\n",
            "Epoch 26/40\n",
            "48/48 [==============================] - 1s 25ms/step - loss: 7119.2695 - mse: 7119.2695 - mae: 70.2972 - val_loss: 7190.5439 - val_mse: 7190.5439 - val_mae: 73.9617\n",
            "Epoch 27/40\n",
            "48/48 [==============================] - 1s 23ms/step - loss: 7117.7983 - mse: 7117.7983 - mae: 70.2979 - val_loss: 7189.4482 - val_mse: 7189.4482 - val_mae: 73.9868\n",
            "Epoch 28/40\n",
            "48/48 [==============================] - 1s 25ms/step - loss: 7116.3213 - mse: 7116.3213 - mae: 70.2985 - val_loss: 7188.3589 - val_mse: 7188.3589 - val_mae: 74.0120\n",
            "Epoch 29/40\n",
            "48/48 [==============================] - 1s 24ms/step - loss: 7114.8442 - mse: 7114.8442 - mae: 70.2989 - val_loss: 7187.2861 - val_mse: 7187.2861 - val_mae: 74.0373\n",
            "Epoch 30/40\n",
            "48/48 [==============================] - 1s 24ms/step - loss: 7113.3628 - mse: 7113.3628 - mae: 70.2994 - val_loss: 7186.2266 - val_mse: 7186.2266 - val_mae: 74.0625\n",
            "Epoch 31/40\n",
            "48/48 [==============================] - 1s 24ms/step - loss: 7111.8813 - mse: 7111.8813 - mae: 70.2998 - val_loss: 7185.1797 - val_mse: 7185.1797 - val_mae: 74.0878\n",
            "Epoch 32/40\n",
            "48/48 [==============================] - 1s 25ms/step - loss: 7110.4023 - mse: 7110.4023 - mae: 70.3001 - val_loss: 7184.1460 - val_mse: 7184.1460 - val_mae: 74.1131\n",
            "Epoch 33/40\n",
            "48/48 [==============================] - 1s 24ms/step - loss: 7108.9185 - mse: 7108.9185 - mae: 70.3004 - val_loss: 7183.1250 - val_mse: 7183.1250 - val_mae: 74.1385\n",
            "Epoch 34/40\n",
            "48/48 [==============================] - 1s 23ms/step - loss: 7107.4375 - mse: 7107.4375 - mae: 70.3006 - val_loss: 7182.1211 - val_mse: 7182.1211 - val_mae: 74.1640\n",
            "Epoch 35/40\n",
            "48/48 [==============================] - 1s 26ms/step - loss: 7105.9624 - mse: 7105.9624 - mae: 70.3008 - val_loss: 7181.1333 - val_mse: 7181.1333 - val_mae: 74.1894\n",
            "Epoch 36/40\n",
            "48/48 [==============================] - 1s 24ms/step - loss: 7104.4819 - mse: 7104.4819 - mae: 70.3011 - val_loss: 7180.1582 - val_mse: 7180.1582 - val_mae: 74.2148\n",
            "Epoch 37/40\n",
            "48/48 [==============================] - 1s 25ms/step - loss: 7103.0078 - mse: 7103.0078 - mae: 70.3011 - val_loss: 7179.1992 - val_mse: 7179.1992 - val_mae: 74.2401\n",
            "Epoch 38/40\n",
            "48/48 [==============================] - 1s 25ms/step - loss: 7101.5303 - mse: 7101.5303 - mae: 70.3012 - val_loss: 7178.2495 - val_mse: 7178.2495 - val_mae: 74.2654\n",
            "Epoch 39/40\n",
            "48/48 [==============================] - 1s 25ms/step - loss: 7100.0615 - mse: 7100.0615 - mae: 70.3011 - val_loss: 7177.3208 - val_mse: 7177.3208 - val_mae: 74.2906\n",
            "Epoch 40/40\n",
            "48/48 [==============================] - 1s 24ms/step - loss: 7098.5908 - mse: 7098.5908 - mae: 70.3010 - val_loss: 7176.4072 - val_mse: 7176.4072 - val_mae: 74.3158\n"
          ]
        },
        {
          "output_type": "execute_result",
          "data": {
            "text/plain": [
              "<keras.callbacks.History at 0x7f11c57c8150>"
            ]
          },
          "metadata": {},
          "execution_count": 138
        }
      ]
    },
    {
      "cell_type": "code",
      "source": [
        "\n",
        "model_losses = pd.DataFrame(model.history.history)\n",
        "model_losses.plot()"
      ],
      "metadata": {
        "colab": {
          "base_uri": "https://localhost:8080/",
          "height": 282
        },
        "id": "v-JIcWjjyowS",
        "outputId": "7719bdb8-0162-4657-de46-6637fa07cc58"
      },
      "execution_count": 139,
      "outputs": [
        {
          "output_type": "execute_result",
          "data": {
            "text/plain": [
              "<matplotlib.axes._subplots.AxesSubplot at 0x7f11c56b2d90>"
            ]
          },
          "metadata": {},
          "execution_count": 139
        },
        {
          "output_type": "display_data",
          "data": {
            "text/plain": [
              "<Figure size 432x288 with 1 Axes>"
            ],
            "image/png": "[encoded data removed]"
          },
          "metadata": {
            "needs_background": "light"
          }
        }
      ]
    },
    {
      "cell_type": "code",
      "source": [
        "predictions = model.predict(X_test)\n",
        "sample = pd.DataFrame(predictions,columns=['Predict'])\n",
        "sample['Actual']=pq\n",
        "sample[['Date','Time','Week']]=qp\n",
        "sample.head(3)"
      ],
      "metadata": {
        "colab": {
          "base_uri": "https://localhost:8080/",
          "height": 215
        },
        "id": "cs7EBDmo2CBF",
        "outputId": "17b99c3f-8d79-4b8d-bf63-9ca289d712b1"
      },
      "execution_count": 141,
      "outputs": [
        {
          "output_type": "stream",
          "name": "stdout",
          "text": [
            "24/24 [==============================] - 0s 6ms/step\n"
          ]
        },
        {
          "output_type": "stream",
          "name": "stderr",
          "text": [
            "/usr/local/lib/python3.7/dist-packages/tensorflow/python/data/ops/structured_function.py:265: UserWarning: Even though the `tf.config.experimental_run_functions_eagerly` option is set, this option does not apply to tf.data functions. To force eager execution of tf.data functions, please use `tf.data.experimental.enable_debug_mode()`.\n",
            "  \"Even though the `tf.config.experimental_run_functions_eagerly` \"\n"
          ]
        },
        {
          "output_type": "execute_result",
          "data": {
            "text/plain": [
              "      Predict  Actual  Date  Time  Week\n",
              "0  132.452576      94  4.03  11.2   7.0\n",
              "1  133.742050      81  4.03  11.4   7.0\n",
              "2  137.610458      71  4.03  12.0   7.0"
            ],
            "text/html": [
              "\n",
              "  <div id=\"df-48a81781-5b98-4515-99b9-a09500f58c65\">\n",
              "    <div class=\"colab-df-container\">\n",
              "      <div>\n",
              "<style scoped>\n",
              "    .dataframe tbody tr th:only-of-type {\n",
              "        vertical-align: middle;\n",
              "    }\n",
              "\n",
              "    .dataframe tbody tr th {\n",
              "        vertical-align: top;\n",
              "    }\n",
              "\n",
              "    .dataframe thead th {\n",
              "        text-align: right;\n",
              "    }\n",
              "</style>\n",
              "<table border=\"1\" class=\"dataframe\">\n",
              "  <thead>\n",
              "    <tr style=\"text-align: right;\">\n",
              "      <th></th>\n",
              "      <th>Predict</th>\n",
              "      <th>Actual</th>\n",
              "      <th>Date</th>\n",
              "      <th>Time</th>\n",
              "      <th>Week</th>\n",
              "    </tr>\n",
              "  </thead>\n",
              "  <tbody>\n",
              "    <tr>\n",
              "      <th>0</th>\n",
              "      <td>132.452576</td>\n",
              "      <td>94</td>\n",
              "      <td>4.03</td>\n",
              "      <td>11.2</td>\n",
              "      <td>7.0</td>\n",
              "    </tr>\n",
              "    <tr>\n",
              "      <th>1</th>\n",
              "      <td>133.742050</td>\n",
              "      <td>81</td>\n",
              "      <td>4.03</td>\n",
              "      <td>11.4</td>\n",
              "      <td>7.0</td>\n",
              "    </tr>\n",
              "    <tr>\n",
              "      <th>2</th>\n",
              "      <td>137.610458</td>\n",
              "      <td>71</td>\n",
              "      <td>4.03</td>\n",
              "      <td>12.0</td>\n",
              "      <td>7.0</td>\n",
              "    </tr>\n",
              "  </tbody>\n",
              "</table>\n",
              "</div>\n",
              "      <button class=\"colab-df-convert\" onclick=\"convertToInteractive('df-48a81781-5b98-4515-99b9-a09500f58c65')\"\n",
              "              title=\"Convert this dataframe to an interactive table.\"\n",
              "              style=\"display:none;\">\n",
              "        \n",
              "  <svg xmlns=\"http://www.w3.org/2000/svg\" height=\"24px\"viewBox=\"0 0 24 24\"\n",
              "       width=\"24px\">\n",
              "    <path d=\"M0 0h24v24H0V0z\" fill=\"none\"/>\n",
              "    <path d=\"M18.56 5.44l.94 2.06.94-2.06 2.06-.94-2.06-.94-.94-2.06-.94 2.06-2.06.94zm-11 1L8.5 8.5l.94-2.06 2.06-.94-2.06-.94L8.5 2.5l-.94 2.06-2.06.94zm10 10l.94 2.06.94-2.06 2.06-.94-2.06-.94-.94-2.06-.94 2.06-2.06.94z\"/><path d=\"M17.41 7.96l-1.37-1.37c-.4-.4-.92-.59-1.43-.59-.52 0-1.04.2-1.43.59L10.3 9.45l-7.72 7.72c-.78.78-.78 2.05 0 2.83L4 21.41c.39.39.9.59 1.41.59.51 0 1.02-.2 1.41-.59l7.78-7.78 2.81-2.81c.8-.78.8-2.07 0-2.86zM5.41 20L4 18.59l7.72-7.72 1.47 1.35L5.41 20z\"/>\n",
              "  </svg>\n",
              "      </button>\n",
              "      \n",
              "  <style>\n",
              "    .colab-df-container {\n",
              "      display:flex;\n",
              "      flex-wrap:wrap;\n",
              "      gap: 12px;\n",
              "    }\n",
              "\n",
              "    .colab-df-convert {\n",
              "      background-color: #E8F0FE;\n",
              "      border: none;\n",
              "      border-radius: 50%;\n",
              "      cursor: pointer;\n",
              "      display: none;\n",
              "      fill: #1967D2;\n",
              "      height: 32px;\n",
              "      padding: 0 0 0 0;\n",
              "      width: 32px;\n",
              "    }\n",
              "\n",
              "    .colab-df-convert:hover {\n",
              "      background-color: #E2EBFA;\n",
              "      box-shadow: 0px 1px 2px rgba(60, 64, 67, 0.3), 0px 1px 3px 1px rgba(60, 64, 67, 0.15);\n",
              "      fill: #174EA6;\n",
              "    }\n",
              "\n",
              "    [theme=dark] .colab-df-convert {\n",
              "      background-color: #3B4455;\n",
              "      fill: #D2E3FC;\n",
              "    }\n",
              "\n",
              "    [theme=dark] .colab-df-convert:hover {\n",
              "      background-color: #434B5C;\n",
              "      box-shadow: 0px 1px 3px 1px rgba(0, 0, 0, 0.15);\n",
              "      filter: drop-shadow(0px 1px 2px rgba(0, 0, 0, 0.3));\n",
              "      fill: #FFFFFF;\n",
              "    }\n",
              "  </style>\n",
              "\n",
              "      <script>\n",
              "        const buttonEl =\n",
              "          document.querySelector('#df-48a81781-5b98-4515-99b9-a09500f58c65 button.colab-df-convert');\n",
              "        buttonEl.style.display =\n",
              "          google.colab.kernel.accessAllowed ? 'block' : 'none';\n",
              "\n",
              "        async function convertToInteractive(key) {\n",
              "          const element = document.querySelector('#df-48a81781-5b98-4515-99b9-a09500f58c65');\n",
              "          const dataTable =\n",
              "            await google.colab.kernel.invokeFunction('convertToInteractive',\n",
              "                                                     [key], {});\n",
              "          if (!dataTable) return;\n",
              "\n",
              "          const docLinkHtml = 'Like what you see? Visit the ' +\n",
              "            '<a target=\"_blank\" href=https://colab.research.google.com/notebooks/data_table.ipynb>data table notebook</a>'\n",
              "            + ' to learn more about interactive tables.';\n",
              "          element.innerHTML = '';\n",
              "          dataTable['output_type'] = 'display_data';\n",
              "          await google.colab.output.renderOutput(dataTable, element);\n",
              "          const docLink = document.createElement('div');\n",
              "          docLink.innerHTML = docLinkHtml;\n",
              "          element.appendChild(docLink);\n",
              "        }\n",
              "      </script>\n",
              "    </div>\n",
              "  </div>\n",
              "  "
            ]
          },
          "metadata": {},
          "execution_count": 141
        }
      ]
    },
    {
      "cell_type": "code",
      "source": [],
      "metadata": {
        "id": "QRmRiXq21ya7"
      },
      "execution_count": null,
      "outputs": []
    }
  ]
}